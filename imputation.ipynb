{
 "cells": [
  {
   "cell_type": "markdown",
   "metadata": {},
   "source": [
    "## meterological data from DWD: German weather service  \n",
    "\n",
    "1. data source: `sequential, hourly data from DWD`: German weather service and site in south berlin\n",
    "\n",
    "2. features: \n",
    "- `prec_mm`- amount of precipitation (e.g. rain) in mm (normally scaled)\n",
    "- `prec_bool`- boolean if precipitation (e.g. rain) (boolean)\n",
    "- `humidity`- humidity (normally scaled)\n",
    "- `temp`- temperature (normally scaled)\n",
    "- `radiation`- solar radiation (normally scaled)\n",
    "- `air_pressure`- (normally scaled)\n",
    "- `wind_speed`- (normally scaled)\n",
    "- `wind_degree`- (ordinary scaled) [1,360]\n",
    "\n"
   ]
  },
  {
   "cell_type": "markdown",
   "metadata": {},
   "source": [
    "## Imputation of missind data\n",
    "1. rule-based imputation (based on EDA)- through correlation\n",
    "2. linear interpolation for values with preceding and subsequent data point or low LSTM score\n",
    "3. LSTM-based multi-step forecasting\n",
    "4. last value carried forward for categorical "
   ]
  },
  {
   "cell_type": "code",
   "execution_count": 1,
   "metadata": {},
   "outputs": [],
   "source": [
    "# load data \n",
    "import pandas as pd\n",
    "df_weather = pd.read_csv('datasets/df_meteorological_na.csv')"
   ]
  },
  {
   "cell_type": "markdown",
   "metadata": {},
   "source": [
    "### 1. rule-based imputation through correlation (N imputations = 84 values)\n",
    "- prec_bool and pre_type are highly correlated in values but not in absence\n",
    "\n",
    "- > prec_boo takes 0 (no rain) if prec_bool == 0 (type no rain)\n",
    "- > prec_boo takes 1 (rain) if prec_bool >= 0 (other type of precipitation)\n"
   ]
  },
  {
   "cell_type": "code",
   "execution_count": 2,
   "metadata": {},
   "outputs": [],
   "source": [
    "# impute values based on strong correlation in prec_bool and prec_type\n",
    "for n in range(len(df_weather)):\n",
    "    if pd.isna(df_weather['prec_bool'][n]) == True: # if value in prec_bool is na\n",
    "        if pd.isna(df_weather['prec_type'][n]) == False: # if value for prec_type at same index is not na\n",
    "            # if type ==  no rain\n",
    "            if df_weather['prec_type'][n] == 0: \n",
    "                df_weather.loc[n, 'prec_bool'] = 0 # impute 0 for no rain \n",
    "                df_weather.loc[n, 'prec_mm'] = 0\n",
    "            \n",
    "            else: # for other type of precipitation \n",
    "                df_weather.loc[n, 'prec_bool'] = 1 \n",
    "\n",
    "df_weather = df_weather.drop('prec_type', axis= 1)"
   ]
  },
  {
   "cell_type": "markdown",
   "metadata": {},
   "source": [
    "### 2. linear interpolation of missing single values (N =12)\n",
    "\n",
    "1. identify single (non clustered) missing values (value before and following exist)\n",
    "2. plot those values\n",
    "3. impute values through linear interpolation"
   ]
  },
  {
   "cell_type": "code",
   "execution_count": 3,
   "metadata": {},
   "outputs": [
    {
     "name": "stdout",
     "output_type": "stream",
     "text": [
      "0.0 for prec_mm at 2023012116\n",
      "0.0 for prec_mm at 2023052307\n",
      "0.5 for prec_mm at 2023062010\n",
      "0.0 for prec_mm at 2023062103\n",
      "0.0 for prec_mm at 2023092214\n",
      "0.0 for prec_mm at 2023101018\n",
      "0.0 for prec_mm at 2023101401\n",
      "54.5 for humidity at 2023040311\n",
      "3.5 for temp at 2023040311\n",
      "205.0 for radiation at 2023080910\n",
      "5.0 for wind_speed at 2023040312\n",
      "1032.0 for air_pressure at 2023040311\n",
      "255.0 for wind_degree at 2023070412\n",
      "110.0 for wind_degree at 2023090712\n"
     ]
    }
   ],
   "source": [
    "features = ['prec_mm', 'humidity', 'temp',  'radiation', 'wind_speed', 'air_pressure', 'wind_degree'] \n",
    "\n",
    "# single missing point (time series measure exist before and after)\n",
    "def find_single_missing_pints(list_missing_vlaues):\n",
    "    single_missing_pints = []\n",
    "    for missing_datapoint in list_missing_vlaues:\n",
    "        if missing_datapoint -1 not in list_missing_vlaues and missing_datapoint +1 not in list_missing_vlaues:\n",
    "            single_missing_pints.append(missing_datapoint)\n",
    "    \n",
    "    return single_missing_pints\n",
    "\n",
    "\n",
    "def linear_interpolation(feature, time_stamp):\n",
    "    \n",
    "    # before value \n",
    "    before_value = int(df_weather[df_weather['time_step'] == time_stamp-1][feature].iloc[0])\n",
    "    # following value\n",
    "    after_value = int(df_weather[df_weather['time_step'] == time_stamp+1][feature].iloc[0])\n",
    "    # impute value \n",
    "    interpolated_value = (before_value + after_value)/2\n",
    "    col_indexer = df_weather[df_weather['time_step'] == time_stamp][feature].index[0]\n",
    "    print(f'{interpolated_value} for {feature} at {time_stamp}')\n",
    "    df_weather.loc[col_indexer, feature] = interpolated_value                 \n",
    "\n",
    "# interpolate those missing values\n",
    "for n in range(len(features)):\n",
    "    current_missing = df_weather[df_weather[features[n]].isna()]['time_step']\n",
    "    single_missing = find_single_missing_pints(list(current_missing))\n",
    "\n",
    "    for missing in single_missing:\n",
    "        linear_interpolation(feature= features[n], time_stamp = missing)\n",
    "                        "
   ]
  },
  {
   "cell_type": "markdown",
   "metadata": {},
   "source": [
    "### 2.1 linear interpolate features with lower LSTM score"
   ]
  },
  {
   "cell_type": "code",
   "execution_count": 4,
   "metadata": {},
   "outputs": [],
   "source": [
    "# linear interpolate wind speed & air pressure\n",
    "df_weather[[ 'wind_speed', 'air_pressure']] = df_weather[[ 'wind_speed', 'air_pressure']].interpolate(method = 'linear')"
   ]
  },
  {
   "cell_type": "markdown",
   "metadata": {},
   "source": [
    "### 3. LSTM-based multi-step fore casting\n",
    "1. training LSTM: load data of previous years and select time span without missing values\n",
    "2. define LSTM model and required data transformation: 10,896 instances = [(454,24,1)] - [(samples, timesteps,features)]\n",
    "3. fit model"
   ]
  },
  {
   "cell_type": "code",
   "execution_count": 5,
   "metadata": {},
   "outputs": [],
   "source": [
    "import pandas as pd\n",
    "import numpy as np\n",
    "from utilities.LSTM_model import LSTM_model, lstm_impute\n",
    "\n",
    "df_weather_train = pd.read_csv('datasets/df_meteorological_train_data.csv') # training data from the previous year\n",
    "\n",
    "lstm_impute(df = df_weather,\n",
    "            features = ['prec_mm', 'humidity', 'temp', 'radiation'], \n",
    "            lstm_model = LSTM_model(df = df_weather_train, timesteps= 24, epochs= 5, batch_size= 32)).getitem()"
   ]
  },
  {
   "cell_type": "markdown",
   "metadata": {},
   "source": [
    "### 4. Last Observation Carried Forward for categorical features \n",
    "(prec_bool, wind_degree)"
   ]
  },
  {
   "cell_type": "code",
   "execution_count": null,
   "metadata": {},
   "outputs": [
    {
     "data": {
      "text/plain": [
       "time_step       0\n",
       "prec_mm         0\n",
       "prec_bool       0\n",
       "humidity        0\n",
       "temp            0\n",
       "radiation       0\n",
       "wind_degree     0\n",
       "wind_speed      0\n",
       "air_pressure    0\n",
       "dtype: int64"
      ]
     },
     "execution_count": 33,
     "metadata": {},
     "output_type": "execute_result"
    }
   ],
   "source": [
    "# simple forward fill bool\n",
    "df_weather[['prec_bool', 'wind_degree']] = df_weather[['prec_bool', 'wind_degree']].astype('float').ffill()\n",
    "df_weather.to_csv('datasets/df_meteorological_impute.csv', index = False) #save\n",
    "df_weather.isna().sum()"
   ]
  }
 ],
 "metadata": {
  "kernelspec": {
   "display_name": "Python 3",
   "language": "python",
   "name": "python3"
  },
  "language_info": {
   "codemirror_mode": {
    "name": "ipython",
    "version": 3
   },
   "file_extension": ".py",
   "mimetype": "text/x-python",
   "name": "python",
   "nbconvert_exporter": "python",
   "pygments_lexer": "ipython3",
   "version": "3.11.9"
  }
 },
 "nbformat": 4,
 "nbformat_minor": 2
}
